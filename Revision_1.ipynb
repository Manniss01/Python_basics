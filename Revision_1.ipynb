{
 "cells": [
  {
   "cell_type": "code",
   "execution_count": 7,
   "id": "4ff56480",
   "metadata": {},
   "outputs": [],
   "source": [
    "#################----numpy---------################################## Revision=1"
   ]
  },
  {
   "cell_type": "code",
   "execution_count": 8,
   "id": "0b6698f8",
   "metadata": {},
   "outputs": [
    {
     "name": "stdout",
     "output_type": "stream",
     "text": [
      "[ 1  1  2 32]\n"
     ]
    }
   ],
   "source": [
    "import numpy as np\n",
    "arr=np.array([1,1,2,32]) #1D array\n",
    "print(arr)"
   ]
  },
  {
   "cell_type": "code",
   "execution_count": 9,
   "id": "dcf15b84",
   "metadata": {},
   "outputs": [
    {
     "name": "stdout",
     "output_type": "stream",
     "text": [
      "1.19.5\n"
     ]
    }
   ],
   "source": [
    "##checking the numpy version\n",
    "print(np.__version__)"
   ]
  },
  {
   "cell_type": "code",
   "execution_count": 10,
   "id": "4a808253",
   "metadata": {},
   "outputs": [
    {
     "name": "stdout",
     "output_type": "stream",
     "text": [
      "[[1 2 3 4]\n",
      " [1 3 4 5]]\n"
     ]
    }
   ],
   "source": [
    "arr_2d=np.array([[1,2,3,4],[1,3,4,5]])##2D array\n",
    "print(arr_2d)"
   ]
  },
  {
   "cell_type": "code",
   "execution_count": 11,
   "id": "8006dffb",
   "metadata": {},
   "outputs": [
    {
     "name": "stdout",
     "output_type": "stream",
     "text": [
      "[[[ 1  2  3  4]\n",
      "  [ 1  4  8  9]\n",
      "  [ 3  4 56  6]]]The diminsion:3\n"
     ]
    }
   ],
   "source": [
    "arr_3d=np.array([[[1,2,3,4],[1,4,8,9],[3,4,56,6]]])\n",
    "print(str(arr_3d)+\"The diminsion:\"+str(arr_3d.ndim))"
   ]
  },
  {
   "cell_type": "code",
   "execution_count": 12,
   "id": "834fbb9b",
   "metadata": {},
   "outputs": [],
   "source": [
    "#################------indexing-------------------###########################"
   ]
  },
  {
   "cell_type": "code",
   "execution_count": 13,
   "id": "ce00e1f5",
   "metadata": {},
   "outputs": [
    {
     "name": "stdout",
     "output_type": "stream",
     "text": [
      "2:index 2 from the array called arr.\n"
     ]
    }
   ],
   "source": [
    "a=arr[2]## getting value from the 1D array \n",
    "print(str(a)+\":index 2 from the array called arr.\")\n"
   ]
  },
  {
   "cell_type": "code",
   "execution_count": 14,
   "id": "d3d54d2c",
   "metadata": {},
   "outputs": [
    {
     "name": "stdout",
     "output_type": "stream",
     "text": [
      "4\n"
     ]
    }
   ],
   "source": [
    "b=arr_2d[0,3]## geting the value from the index 0,3 from 2d Array\n",
    "print(str(b))"
   ]
  },
  {
   "cell_type": "code",
   "execution_count": 15,
   "id": "c195105f",
   "metadata": {},
   "outputs": [
    {
     "ename": "IndexError",
     "evalue": "index 1 is out of bounds for axis 0 with size 1",
     "output_type": "error",
     "traceback": [
      "\u001b[0;31m---------------------------------------------------------------------------\u001b[0m",
      "\u001b[0;31mIndexError\u001b[0m                                Traceback (most recent call last)",
      "\u001b[0;32m/tmp/ipykernel_5043/687726936.py\u001b[0m in \u001b[0;36m<module>\u001b[0;34m\u001b[0m\n\u001b[0;32m----> 1\u001b[0;31m \u001b[0mc\u001b[0m\u001b[0;34m=\u001b[0m\u001b[0marr_3d\u001b[0m\u001b[0;34m[\u001b[0m\u001b[0;36m1\u001b[0m\u001b[0;34m,\u001b[0m\u001b[0;36m3\u001b[0m\u001b[0;34m,\u001b[0m\u001b[0;36m3\u001b[0m\u001b[0;34m]\u001b[0m\u001b[0;31m## getting the valui from the index 0,1,2 from 3d array\u001b[0m\u001b[0;34m\u001b[0m\u001b[0;34m\u001b[0m\u001b[0m\n\u001b[0m\u001b[1;32m      2\u001b[0m \u001b[0mprint\u001b[0m\u001b[0;34m(\u001b[0m\u001b[0mstr\u001b[0m\u001b[0;34m(\u001b[0m\u001b[0mc\u001b[0m\u001b[0;34m)\u001b[0m\u001b[0;34m)\u001b[0m\u001b[0;34m\u001b[0m\u001b[0;34m\u001b[0m\u001b[0m\n",
      "\u001b[0;31mIndexError\u001b[0m: index 1 is out of bounds for axis 0 with size 1"
     ]
    }
   ],
   "source": [
    "c=arr_3d[1,3,3]## getting the valui from the index 0,1,2 from 3d array\n",
    "print(str(c))"
   ]
  },
  {
   "cell_type": "code",
   "execution_count": 16,
   "id": "4190152e",
   "metadata": {},
   "outputs": [],
   "source": [
    "######--------Negative indexing---------######################"
   ]
  },
  {
   "cell_type": "code",
   "execution_count": 17,
   "id": "cc6619e4",
   "metadata": {},
   "outputs": [
    {
     "name": "stdout",
     "output_type": "stream",
     "text": [
      "32\n"
     ]
    }
   ],
   "source": [
    "N_a=arr[-1]##negative indexing of the array\n",
    "print(str(N_a))"
   ]
  },
  {
   "cell_type": "code",
   "execution_count": 18,
   "id": "cbd054a9",
   "metadata": {},
   "outputs": [],
   "source": [
    "######-----------------Sliceing Array------------------------------######"
   ]
  },
  {
   "cell_type": "code",
   "execution_count": 19,
   "id": "524af09f",
   "metadata": {},
   "outputs": [
    {
     "name": "stdout",
     "output_type": "stream",
     "text": [
      "[1 1 2]\n",
      "[1 2]\n",
      "<class 'numpy.ndarray'>\n"
     ]
    }
   ],
   "source": [
    "S_a=arr[0:3]#sliceing the array to make new array\n",
    "S_b=arr[0:3:2]\n",
    "print(str(S_a))\n",
    "print(str(S_b))\n",
    "print(type(S_a))"
   ]
  },
  {
   "cell_type": "code",
   "execution_count": 20,
   "id": "8c22b123",
   "metadata": {},
   "outputs": [
    {
     "name": "stdout",
     "output_type": "stream",
     "text": [
      "[[1 2]\n",
      " [1 3]]\n",
      "(4,)\n",
      "(2, 4)\n",
      "(1, 3, 4)\n"
     ]
    }
   ],
   "source": [
    "S_a1=arr_2d[0:2,0:2]##slice 2D array to make new array\n",
    "print(S_a1)\n",
    "print(arr.shape)\n",
    "print(arr_2d.shape)\n",
    "print(arr_3d.shape)\n"
   ]
  },
  {
   "cell_type": "code",
   "execution_count": 23,
   "id": "6ac8e9a7",
   "metadata": {},
   "outputs": [],
   "source": [
    "###################------Array Reshape-------##################################"
   ]
  },
  {
   "cell_type": "code",
   "execution_count": 25,
   "id": "434280da",
   "metadata": {},
   "outputs": [
    {
     "name": "stdout",
     "output_type": "stream",
     "text": [
      "[[ 1  1]\n",
      " [ 2 32]]\n"
     ]
    }
   ],
   "source": [
    "arr_1=arr.reshape(2,2)##array reshaping into new array 1D into 2D\n",
    "print(arr_1)"
   ]
  },
  {
   "cell_type": "code",
   "execution_count": 37,
   "id": "134a89ad",
   "metadata": {},
   "outputs": [
    {
     "name": "stdout",
     "output_type": "stream",
     "text": [
      "[[[1 2]\n",
      "  [3 4]]\n",
      "\n",
      " [[1 3]\n",
      "  [4 5]]] 3\n"
     ]
    }
   ],
   "source": [
    "arr_2=arr_2d.reshape(2,2,2)#Reshapeing into 3d array from 2D array\n",
    "print(arr_2,arr_2.ndim)\n"
   ]
  },
  {
   "cell_type": "code",
   "execution_count": null,
   "id": "c3c9a3a2",
   "metadata": {},
   "outputs": [],
   "source": []
  }
 ],
 "metadata": {
  "kernelspec": {
   "display_name": "Python 3 (ipykernel)",
   "language": "python",
   "name": "python3"
  },
  "language_info": {
   "codemirror_mode": {
    "name": "ipython",
    "version": 3
   },
   "file_extension": ".py",
   "mimetype": "text/x-python",
   "name": "python",
   "nbconvert_exporter": "python",
   "pygments_lexer": "ipython3",
   "version": "3.9.8"
  }
 },
 "nbformat": 4,
 "nbformat_minor": 5
}
